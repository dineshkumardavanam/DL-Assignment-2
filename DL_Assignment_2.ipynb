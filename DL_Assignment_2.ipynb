{
  "nbformat": 4,
  "nbformat_minor": 0,
  "metadata": {
    "colab": {
      "provenance": [],
      "authorship_tag": "ABX9TyPtatbjt5ezXLlHyVC5rsnF",
      "include_colab_link": true
    },
    "kernelspec": {
      "name": "python3",
      "display_name": "Python 3"
    },
    "language_info": {
      "name": "python"
    }
  },
  "cells": [
    {
      "cell_type": "markdown",
      "metadata": {
        "id": "view-in-github",
        "colab_type": "text"
      },
      "source": [
        "<a href=\"https://colab.research.google.com/github/dineshkumardavanam/DL-Assignment-2/blob/main/DL_Assignment_2.ipynb\" target=\"_parent\"><img src=\"https://colab.research.google.com/assets/colab-badge.svg\" alt=\"Open In Colab\"/></a>"
      ]
    },
    {
      "cell_type": "code",
      "execution_count": 2,
      "metadata": {
        "id": "DlgIp0jVm4kh"
      },
      "outputs": [],
      "source": [
        "import numpy as np\n",
        "import tensorflow as tf\n",
        "from tensorflow.keras.datasets import cifar10\n",
        "from tensorflow.keras.applications import VGG16\n",
        "from tensorflow.keras.models import Sequential\n",
        "from tensorflow.keras.layers import Flatten, Dense, Dropout\n",
        "from tensorflow.keras.optimizers import Adam\n",
        "from sklearn.model_selection import train_test_split\n",
        "from sklearn.metrics import accuracy_score, classification_report"
      ]
    },
    {
      "cell_type": "code",
      "source": [
        "(X_train, y_train), (X_test, y_test) = cifar10.load_data()\n",
        "X_train, X_val, y_train, y_val = train_test_split(X_train, y_train, test_size=0.2, random_state=42)"
      ],
      "metadata": {
        "colab": {
          "base_uri": "https://localhost:8080/"
        },
        "id": "TdBFTqfEm-XB",
        "outputId": "4cdf05a6-a71b-44a6-fefc-9c084e754116"
      },
      "execution_count": 3,
      "outputs": [
        {
          "output_type": "stream",
          "name": "stdout",
          "text": [
            "Downloading data from https://www.cs.toronto.edu/~kriz/cifar-10-python.tar.gz\n",
            "170498071/170498071 [==============================] - 4s 0us/step\n"
          ]
        }
      ]
    },
    {
      "cell_type": "code",
      "source": [
        "X_train = X_train.astype('float32') / 255.0\n",
        "X_val = X_val.astype('float32') / 255.0\n",
        "X_test = X_test.astype('float32') / 255.0"
      ],
      "metadata": {
        "id": "_ehKfh-gp9B2"
      },
      "execution_count": 4,
      "outputs": []
    },
    {
      "cell_type": "code",
      "source": [
        "base_model = VGG16(weights='imagenet', include_top=False, input_shape=(32, 32, 3))"
      ],
      "metadata": {
        "colab": {
          "base_uri": "https://localhost:8080/"
        },
        "id": "fm81E2gcqARI",
        "outputId": "0b5862ad-2f3f-4522-da76-8d477ccf1588"
      },
      "execution_count": 5,
      "outputs": [
        {
          "output_type": "stream",
          "name": "stdout",
          "text": [
            "Downloading data from https://storage.googleapis.com/tensorflow/keras-applications/vgg16/vgg16_weights_tf_dim_ordering_tf_kernels_notop.h5\n",
            "58889256/58889256 [==============================] - 0s 0us/step\n"
          ]
        }
      ]
    },
    {
      "cell_type": "code",
      "source": [
        "for layer in base_model.layers:\n",
        "    layer.trainable = False"
      ],
      "metadata": {
        "id": "4OAM_RcnqCPN"
      },
      "execution_count": 6,
      "outputs": []
    },
    {
      "cell_type": "code",
      "source": [
        "model = Sequential([\n",
        "    base_model,\n",
        "    Flatten(),\n",
        "    Dense(512, activation='relu'),\n",
        "    Dropout(0.5),\n",
        "    Dense(10, activation='softmax')  # Output layer for 10 classes in CIFAR-10\n",
        "])"
      ],
      "metadata": {
        "id": "Acuerz7YqD3n"
      },
      "execution_count": 7,
      "outputs": []
    },
    {
      "cell_type": "code",
      "source": [
        "model.compile(optimizer=Adam(lr=1e-4), loss='sparse_categorical_crossentropy', metrics=['accuracy'])"
      ],
      "metadata": {
        "colab": {
          "base_uri": "https://localhost:8080/"
        },
        "id": "BMxTOvfeqFtI",
        "outputId": "9e0335a3-4a59-4115-ce4e-48528b92f6d6"
      },
      "execution_count": 8,
      "outputs": [
        {
          "output_type": "stream",
          "name": "stderr",
          "text": [
            "WARNING:absl:`lr` is deprecated in Keras optimizer, please use `learning_rate` or use the legacy optimizer, e.g.,tf.keras.optimizers.legacy.Adam.\n"
          ]
        }
      ]
    },
    {
      "cell_type": "code",
      "source": [
        "history = model.fit(\n",
        "    X_train, y_train,\n",
        "    epochs=10,\n",
        "    batch_size=32,\n",
        "    validation_data=(X_val, y_val),\n",
        "    verbose=1\n",
        ")"
      ],
      "metadata": {
        "colab": {
          "base_uri": "https://localhost:8080/"
        },
        "id": "0slsnHnUqH_0",
        "outputId": "6a99143e-340e-4307-db89-257c3bc6d2f9"
      },
      "execution_count": null,
      "outputs": [
        {
          "output_type": "stream",
          "name": "stdout",
          "text": [
            "Epoch 1/10\n",
            "1250/1250 [==============================] - 603s 481ms/step - loss: 1.4677 - accuracy: 0.4876 - val_loss: 1.2501 - val_accuracy: 0.5622\n",
            "Epoch 2/10\n",
            "1250/1250 [==============================] - 553s 442ms/step - loss: 1.2823 - accuracy: 0.5473 - val_loss: 1.1994 - val_accuracy: 0.5728\n",
            "Epoch 3/10\n",
            "1250/1250 [==============================] - 550s 440ms/step - loss: 1.2264 - accuracy: 0.5682 - val_loss: 1.1915 - val_accuracy: 0.5793\n",
            "Epoch 4/10\n",
            "1250/1250 [==============================] - 585s 468ms/step - loss: 1.1893 - accuracy: 0.5835 - val_loss: 1.1531 - val_accuracy: 0.5901\n",
            "Epoch 5/10\n",
            "1250/1250 [==============================] - 586s 469ms/step - loss: 1.1564 - accuracy: 0.5932 - val_loss: 1.1312 - val_accuracy: 0.6017\n",
            "Epoch 6/10\n",
            "1250/1250 [==============================] - 584s 468ms/step - loss: 1.1365 - accuracy: 0.6032 - val_loss: 1.1313 - val_accuracy: 0.6054\n",
            "Epoch 7/10\n",
            "1250/1250 [==============================] - 585s 468ms/step - loss: 1.1148 - accuracy: 0.6081 - val_loss: 1.1224 - val_accuracy: 0.6075\n",
            "Epoch 8/10\n",
            " 915/1250 [====================>.........] - ETA: 1:59 - loss: 1.0880 - accuracy: 0.6193"
          ]
        }
      ]
    }
  ]
}